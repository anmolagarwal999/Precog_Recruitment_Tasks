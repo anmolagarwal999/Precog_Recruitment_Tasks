{
 "cells": [
  {
   "cell_type": "code",
   "execution_count": 7,
   "metadata": {},
   "outputs": [],
   "source": [
    "import tweepy\n",
    "import webbrowser\n",
    "import time\n",
    "import requests\n",
    "import base64"
   ]
  },
  {
   "cell_type": "code",
   "execution_count": 9,
   "metadata": {},
   "outputs": [],
   "source": [
    "consumer_key = \"McleIS9RlMtp6HM6a449tvgYd\"\n",
    "consumer_secret_key = \"qzZ1vpvfftGOMkCSq0RaJyLKMg9mnJnPQdVF80eLhno4zib3ws\""
   ]
  },
  {
   "cell_type": "code",
   "execution_count": 5,
   "metadata": {},
   "outputs": [],
   "source": [
    "callback_uri=\"oob\""
   ]
  },
  {
   "cell_type": "code",
   "execution_count": 6,
   "metadata": {},
   "outputs": [
    {
     "name": "stdout",
     "output_type": "stream",
     "text": [
      "https://api.twitter.com/oauth/authorize?oauth_token=VhSBjgAAAAABK3xgAAABdoi3xIA\n"
     ]
    }
   ],
   "source": [
    "# Authenticate url\n",
    "auth = tweepy.OAuthHandler(consumer_key, consumer_secret, callback_uri)\n",
    "redirect_url = auth.get_authorization_url()\n",
    "print(redirect_url)"
   ]
  },
  {
   "cell_type": "code",
   "execution_count": 10,
   "metadata": {},
   "outputs": [],
   "source": [
    "#Reformat the keys and encode them\n",
    "key_secret = '{}:{}'.format(consumer_key, consumer_secret_key).encode('ascii')\n",
    "#Transform from bytes to bytes that can be printed\n",
    "b64_encoded_key = base64.b64encode(key_secret)\n",
    "#Transform from bytes back into Unicode\n",
    "b64_encoded_key = b64_encoded_key.decode('ascii')\n"
   ]
  },
  {
   "cell_type": "code",
   "execution_count": 37,
   "metadata": {},
   "outputs": [
    {
     "name": "stdout",
     "output_type": "stream",
     "text": [
      "200\n"
     ]
    }
   ],
   "source": [
    "base_url = 'https://api.twitter.com/'\n",
    "auth_url = '{}oauth2/token'.format(base_url)\n",
    "auth_headers = {\n",
    "    'Authorization': 'Basic {}'.format(b64_encoded_key),\n",
    "    'Content-Type': 'application/x-www-form-urlencoded;charset=UTF-8'\n",
    "}\n",
    "auth_data = {\n",
    "    'grant_type': 'client_credentials'\n",
    "}\n",
    "auth_resp = requests.post(auth_url, headers=auth_headers, data=auth_data)\n",
    "print(auth_resp.status_code)\n",
    "access_token = auth_resp.json()['access_token']"
   ]
  },
  {
   "cell_type": "code",
   "execution_count": 38,
   "metadata": {},
   "outputs": [],
   "source": [
    "trend_headers = {\n",
    "    'Authorization': 'Bearer {}'.format(access_token)    \n",
    "}\n",
    "\n",
    "trend_params = {\n",
    "    'id': 20070458,\n",
    "}\n",
    "\n",
    "trend_url = 'https://api.twitter.com/1.1/trends/place.json'  \n",
    "trend_resp = requests.get(trend_url, headers=trend_headers, params=trend_params)"
   ]
  },
  {
   "cell_type": "code",
   "execution_count": 39,
   "metadata": {},
   "outputs": [
    {
     "data": {
      "text/plain": [
       "<Response [200]>"
      ]
     },
     "execution_count": 39,
     "metadata": {},
     "output_type": "execute_result"
    }
   ],
   "source": [
    "trend_resp"
   ]
  },
  {
   "cell_type": "code",
   "execution_count": 40,
   "metadata": {
    "scrolled": false
   },
   "outputs": [
    {
     "name": "stdout",
     "output_type": "stream",
     "text": [
      "[{'trends': [{'name': '#NationalMathematicsDay', 'url': 'http://twitter.com/search?q=%23NationalMathematicsDay', 'promoted_content': None, 'query': '%23NationalMathematicsDay', 'tweet_volume': None}, {'name': '#PanchayatToParliamentBJP', 'url': 'http://twitter.com/search?q=%23PanchayatToParliamentBJP', 'promoted_content': None, 'query': '%23PanchayatToParliamentBJP', 'tweet_volume': 14998}, {'name': '#tuesdaymotivations', 'url': 'http://twitter.com/search?q=%23tuesdaymotivations', 'promoted_content': None, 'query': '%23tuesdaymotivations', 'tweet_volume': None}, {'name': '#SrinivasaRamanujan', 'url': 'http://twitter.com/search?q=%23SrinivasaRamanujan', 'promoted_content': None, 'query': '%23SrinivasaRamanujan', 'tweet_volume': None}, {'name': '#SaveTodayForFuture', 'url': 'http://twitter.com/search?q=%23SaveTodayForFuture', 'promoted_content': None, 'query': '%23SaveTodayForFuture', 'tweet_volume': 14832}, {'name': 'Legion of Merit', 'url': 'http://twitter.com/search?q=%22Legion+of+Merit%22', 'promoted_content': None, 'query': '%22Legion+of+Merit%22', 'tweet_volume': None}, {'name': 'lee sooman', 'url': 'http://twitter.com/search?q=%22lee+sooman%22', 'promoted_content': None, 'query': '%22lee+sooman%22', 'tweet_volume': 20196}, {'name': 'राष्ट्रीय गणित', 'url': 'http://twitter.com/search?q=%22%E0%A4%B0%E0%A4%BE%E0%A4%B7%E0%A5%8D%E0%A4%9F%E0%A5%8D%E0%A4%B0%E0%A5%80%E0%A4%AF+%E0%A4%97%E0%A4%A3%E0%A4%BF%E0%A4%A4%22', 'promoted_content': None, 'query': '%22%E0%A4%B0%E0%A4%BE%E0%A4%B7%E0%A5%8D%E0%A4%9F%E0%A5%8D%E0%A4%B0%E0%A5%80%E0%A4%AF+%E0%A4%97%E0%A4%A3%E0%A4%BF%E0%A4%A4%22', 'tweet_volume': None}, {'name': 'श्रीनिवास रामानुजन', 'url': 'http://twitter.com/search?q=%22%E0%A4%B6%E0%A5%8D%E0%A4%B0%E0%A5%80%E0%A4%A8%E0%A4%BF%E0%A4%B5%E0%A4%BE%E0%A4%B8+%E0%A4%B0%E0%A4%BE%E0%A4%AE%E0%A4%BE%E0%A4%A8%E0%A5%81%E0%A4%9C%E0%A4%A8%22', 'promoted_content': None, 'query': '%22%E0%A4%B6%E0%A5%8D%E0%A4%B0%E0%A5%80%E0%A4%A8%E0%A4%BF%E0%A4%B5%E0%A4%BE%E0%A4%B8+%E0%A4%B0%E0%A4%BE%E0%A4%AE%E0%A4%BE%E0%A4%A8%E0%A5%81%E0%A4%9C%E0%A4%A8%22', 'tweet_volume': None}, {'name': 'US President', 'url': 'http://twitter.com/search?q=%22US+President%22', 'promoted_content': None, 'query': '%22US+President%22', 'tweet_volume': 128227}, {'name': 'US-India', 'url': 'http://twitter.com/search?q=US-India', 'promoted_content': None, 'query': 'US-India', 'tweet_volume': None}, {'name': 'Infinity', 'url': 'http://twitter.com/search?q=Infinity', 'promoted_content': None, 'query': 'Infinity', 'tweet_volume': 26992}, {'name': 'Toronto', 'url': 'http://twitter.com/search?q=Toronto', 'promoted_content': None, 'query': 'Toronto', 'tweet_volume': 38673}, {'name': 'श्री हनुमान', 'url': 'http://twitter.com/search?q=%22%E0%A4%B6%E0%A5%8D%E0%A4%B0%E0%A5%80+%E0%A4%B9%E0%A4%A8%E0%A5%81%E0%A4%AE%E0%A4%BE%E0%A4%A8%22', 'promoted_content': None, 'query': '%22%E0%A4%B6%E0%A5%8D%E0%A4%B0%E0%A5%80+%E0%A4%B9%E0%A4%A8%E0%A5%81%E0%A4%AE%E0%A4%BE%E0%A4%A8%22', 'tweet_volume': None}, {'name': 'Donald Trump', 'url': 'http://twitter.com/search?q=%22Donald+Trump%22', 'promoted_content': None, 'query': '%22Donald+Trump%22', 'tweet_volume': 223281}, {'name': 'HAPPY BIRTHDAY SARU', 'url': 'http://twitter.com/search?q=%22HAPPY+BIRTHDAY+SARU%22', 'promoted_content': None, 'query': '%22HAPPY+BIRTHDAY+SARU%22', 'tweet_volume': None}, {'name': '\"Christians\"', 'url': 'http://twitter.com/search?q=%22Christians%22', 'promoted_content': None, 'query': '%22Christians%22', 'tweet_volume': 24926}, {'name': 'Werner', 'url': 'http://twitter.com/search?q=Werner', 'promoted_content': None, 'query': 'Werner', 'tweet_volume': 65769}, {'name': '#FarmersBeforeCorporations', 'url': 'http://twitter.com/search?q=%23FarmersBeforeCorporations', 'promoted_content': None, 'query': '%23FarmersBeforeCorporations', 'tweet_volume': 42769}, {'name': '#FastTrackSSRCase', 'url': 'http://twitter.com/search?q=%23FastTrackSSRCase', 'promoted_content': None, 'query': '%23FastTrackSSRCase', 'tweet_volume': 51402}, {'name': '#tuesdayvibe', 'url': 'http://twitter.com/search?q=%23tuesdayvibe', 'promoted_content': None, 'query': '%23tuesdayvibe', 'tweet_volume': None}, {'name': '#KarimaBaloch', 'url': 'http://twitter.com/search?q=%23KarimaBaloch', 'promoted_content': None, 'query': '%23KarimaBaloch', 'tweet_volume': 10193}, {'name': '#CoronavirusStrain', 'url': 'http://twitter.com/search?q=%23CoronavirusStrain', 'promoted_content': None, 'query': '%23CoronavirusStrain', 'tweet_volume': None}, {'name': '#Gita_AGiftToMankind', 'url': 'http://twitter.com/search?q=%23Gita_AGiftToMankind', 'promoted_content': None, 'query': '%23Gita_AGiftToMankind', 'tweet_volume': 40429}, {'name': '#TuesdayThoughts', 'url': 'http://twitter.com/search?q=%23TuesdayThoughts', 'promoted_content': None, 'query': '%23TuesdayThoughts', 'tweet_volume': None}, {'name': '#TuesdayFeeling', 'url': 'http://twitter.com/search?q=%23TuesdayFeeling', 'promoted_content': None, 'query': '%23TuesdayFeeling', 'tweet_volume': None}, {'name': '#राष्ट्रीय_गणित_दिवस', 'url': 'http://twitter.com/search?q=%23%E0%A4%B0%E0%A4%BE%E0%A4%B7%E0%A5%8D%E0%A4%9F%E0%A5%8D%E0%A4%B0%E0%A5%80%E0%A4%AF_%E0%A4%97%E0%A4%A3%E0%A4%BF%E0%A4%A4_%E0%A4%A6%E0%A4%BF%E0%A4%B5%E0%A4%B8', 'promoted_content': None, 'query': '%23%E0%A4%B0%E0%A4%BE%E0%A4%B7%E0%A5%8D%E0%A4%9F%E0%A5%8D%E0%A4%B0%E0%A5%80%E0%A4%AF_%E0%A4%97%E0%A4%A3%E0%A4%BF%E0%A4%A4_%E0%A4%A6%E0%A4%BF%E0%A4%B5%E0%A4%B8', 'tweet_volume': None}, {'name': '#I_Support_Farmer_Protest', 'url': 'http://twitter.com/search?q=%23I_Support_Farmer_Protest', 'promoted_content': None, 'query': '%23I_Support_Farmer_Protest', 'tweet_volume': None}, {'name': '#maths', 'url': 'http://twitter.com/search?q=%23maths', 'promoted_content': None, 'query': '%23maths', 'tweet_volume': None}, {'name': '#GodMorningTuesday', 'url': 'http://twitter.com/search?q=%23GodMorningTuesday', 'promoted_content': None, 'query': '%23GodMorningTuesday', 'tweet_volume': None}, {'name': '#ModiNaukarAmbaniKa', 'url': 'http://twitter.com/search?q=%23ModiNaukarAmbaniKa', 'promoted_content': None, 'query': '%23ModiNaukarAmbaniKa', 'tweet_volume': 43376}, {'name': '#tuesdaymorning', 'url': 'http://twitter.com/search?q=%23tuesdaymorning', 'promoted_content': None, 'query': '%23tuesdaymorning', 'tweet_volume': None}, {'name': '#3yearsofsakkapodupoduraja', 'url': 'http://twitter.com/search?q=%233yearsofsakkapodupoduraja', 'promoted_content': None, 'query': '%233yearsofsakkapodupoduraja', 'tweet_volume': None}, {'name': '#ProudOfTaylor', 'url': 'http://twitter.com/search?q=%23ProudOfTaylor', 'promoted_content': None, 'query': '%23ProudOfTaylor', 'tweet_volume': 29278}, {'name': '#DDCElections2020', 'url': 'http://twitter.com/search?q=%23DDCElections2020', 'promoted_content': None, 'query': '%23DDCElections2020', 'tweet_volume': None}, {'name': '#जयभीम', 'url': 'http://twitter.com/search?q=%23%E0%A4%9C%E0%A4%AF%E0%A4%AD%E0%A5%80%E0%A4%AE', 'promoted_content': None, 'query': '%23%E0%A4%9C%E0%A4%AF%E0%A4%AD%E0%A5%80%E0%A4%AE', 'tweet_volume': None}, {'name': '#thetop_100', 'url': 'http://twitter.com/search?q=%23thetop_100', 'promoted_content': None, 'query': '%23thetop_100', 'tweet_volume': 142051}, {'name': '#14YearsForRakhi', 'url': 'http://twitter.com/search?q=%2314YearsForRakhi', 'promoted_content': None, 'query': '%2314YearsForRakhi', 'tweet_volume': 73909}, {'name': '#CHEWHU', 'url': 'http://twitter.com/search?q=%23CHEWHU', 'promoted_content': None, 'query': '%23CHEWHU', 'tweet_volume': 56929}, {'name': '#जय_श्री_राम', 'url': 'http://twitter.com/search?q=%23%E0%A4%9C%E0%A4%AF_%E0%A4%B6%E0%A5%8D%E0%A4%B0%E0%A5%80_%E0%A4%B0%E0%A4%BE%E0%A4%AE', 'promoted_content': None, 'query': '%23%E0%A4%9C%E0%A4%AF_%E0%A4%B6%E0%A5%8D%E0%A4%B0%E0%A5%80_%E0%A4%B0%E0%A4%BE%E0%A4%AE', 'tweet_volume': None}, {'name': '#nifty50', 'url': 'http://twitter.com/search?q=%23nifty50', 'promoted_content': None, 'query': '%23nifty50', 'tweet_volume': None}, {'name': '#babakadhaba', 'url': 'http://twitter.com/search?q=%23babakadhaba', 'promoted_content': None, 'query': '%23babakadhaba', 'tweet_volume': None}, {'name': '#Britain', 'url': 'http://twitter.com/search?q=%23Britain', 'promoted_content': None, 'query': '%23Britain', 'tweet_volume': None}], 'as_of': '2020-12-22T04:52:04Z', 'created_at': '2020-12-20T04:47:29Z', 'locations': [{'name': 'Delhi', 'woeid': 20070458}]}]\n"
     ]
    }
   ],
   "source": [
    "tweet_data = trend_resp.json()\n",
    "print(tweet_data)"
   ]
  },
  {
   "cell_type": "code",
   "execution_count": 41,
   "metadata": {},
   "outputs": [
    {
     "data": {
      "text/plain": [
       "list"
      ]
     },
     "execution_count": 41,
     "metadata": {},
     "output_type": "execute_result"
    }
   ],
   "source": [
    "type(tweet_data)"
   ]
  },
  {
   "cell_type": "code",
   "execution_count": 42,
   "metadata": {},
   "outputs": [
    {
     "data": {
      "text/plain": [
       "1"
      ]
     },
     "execution_count": 42,
     "metadata": {},
     "output_type": "execute_result"
    }
   ],
   "source": [
    "len(tweet_data)"
   ]
  },
  {
   "cell_type": "code",
   "execution_count": 43,
   "metadata": {},
   "outputs": [
    {
     "name": "stdout",
     "output_type": "stream",
     "text": [
      "{'name': '#NationalMathematicsDay', 'url': 'http://twitter.com/search?q=%23NationalMathematicsDay', 'promoted_content': None, 'query': '%23NationalMathematicsDay', 'tweet_volume': None}\n",
      "{'name': '#PanchayatToParliamentBJP', 'url': 'http://twitter.com/search?q=%23PanchayatToParliamentBJP', 'promoted_content': None, 'query': '%23PanchayatToParliamentBJP', 'tweet_volume': 14998}\n",
      "{'name': '#tuesdaymotivations', 'url': 'http://twitter.com/search?q=%23tuesdaymotivations', 'promoted_content': None, 'query': '%23tuesdaymotivations', 'tweet_volume': None}\n",
      "{'name': '#SrinivasaRamanujan', 'url': 'http://twitter.com/search?q=%23SrinivasaRamanujan', 'promoted_content': None, 'query': '%23SrinivasaRamanujan', 'tweet_volume': None}\n",
      "{'name': '#SaveTodayForFuture', 'url': 'http://twitter.com/search?q=%23SaveTodayForFuture', 'promoted_content': None, 'query': '%23SaveTodayForFuture', 'tweet_volume': 14832}\n",
      "{'name': 'Legion of Merit', 'url': 'http://twitter.com/search?q=%22Legion+of+Merit%22', 'promoted_content': None, 'query': '%22Legion+of+Merit%22', 'tweet_volume': None}\n",
      "{'name': 'lee sooman', 'url': 'http://twitter.com/search?q=%22lee+sooman%22', 'promoted_content': None, 'query': '%22lee+sooman%22', 'tweet_volume': 20196}\n",
      "{'name': 'राष्ट्रीय गणित', 'url': 'http://twitter.com/search?q=%22%E0%A4%B0%E0%A4%BE%E0%A4%B7%E0%A5%8D%E0%A4%9F%E0%A5%8D%E0%A4%B0%E0%A5%80%E0%A4%AF+%E0%A4%97%E0%A4%A3%E0%A4%BF%E0%A4%A4%22', 'promoted_content': None, 'query': '%22%E0%A4%B0%E0%A4%BE%E0%A4%B7%E0%A5%8D%E0%A4%9F%E0%A5%8D%E0%A4%B0%E0%A5%80%E0%A4%AF+%E0%A4%97%E0%A4%A3%E0%A4%BF%E0%A4%A4%22', 'tweet_volume': None}\n",
      "{'name': 'श्रीनिवास रामानुजन', 'url': 'http://twitter.com/search?q=%22%E0%A4%B6%E0%A5%8D%E0%A4%B0%E0%A5%80%E0%A4%A8%E0%A4%BF%E0%A4%B5%E0%A4%BE%E0%A4%B8+%E0%A4%B0%E0%A4%BE%E0%A4%AE%E0%A4%BE%E0%A4%A8%E0%A5%81%E0%A4%9C%E0%A4%A8%22', 'promoted_content': None, 'query': '%22%E0%A4%B6%E0%A5%8D%E0%A4%B0%E0%A5%80%E0%A4%A8%E0%A4%BF%E0%A4%B5%E0%A4%BE%E0%A4%B8+%E0%A4%B0%E0%A4%BE%E0%A4%AE%E0%A4%BE%E0%A4%A8%E0%A5%81%E0%A4%9C%E0%A4%A8%22', 'tweet_volume': None}\n",
      "{'name': 'US President', 'url': 'http://twitter.com/search?q=%22US+President%22', 'promoted_content': None, 'query': '%22US+President%22', 'tweet_volume': 128227}\n"
     ]
    }
   ],
   "source": [
    "for i in range(0,10):\n",
    "  print(tweet_data[0]['trends'][i])"
   ]
  },
  {
   "cell_type": "code",
   "execution_count": 44,
   "metadata": {},
   "outputs": [
    {
     "name": "stdout",
     "output_type": "stream",
     "text": [
      "<class 'dict'>\n"
     ]
    }
   ],
   "source": [
    "print(type(tweet_data[0]))"
   ]
  },
  {
   "cell_type": "code",
   "execution_count": 45,
   "metadata": {},
   "outputs": [
    {
     "name": "stdout",
     "output_type": "stream",
     "text": [
      "trends\n",
      "as_of\n",
      "created_at\n",
      "locations\n"
     ]
    }
   ],
   "source": [
    "for key, value in tweet_data[0].items() :\n",
    "    print (key)"
   ]
  },
  {
   "cell_type": "code",
   "execution_count": 46,
   "metadata": {},
   "outputs": [
    {
     "name": "stdout",
     "output_type": "stream",
     "text": [
      "[{'name': 'Delhi', 'woeid': 20070458}]\n"
     ]
    }
   ],
   "source": [
    "print(tweet_data[0]['locations'])"
   ]
  },
  {
   "cell_type": "code",
   "execution_count": 50,
   "metadata": {},
   "outputs": [
    {
     "name": "stdout",
     "output_type": "stream",
     "text": [
      "['#NationalMathematicsDay', '#PanchayatToParliamentBJP', '#tuesdaymotivations', '#SrinivasaRamanujan', '#SaveTodayForFuture', 'Legion of Merit', 'lee sooman', 'राष्ट्रीय गणित', 'श्रीनिवास रामानुजन', 'US President']\n"
     ]
    }
   ],
   "source": [
    "top_ten_tags=[]\n",
    "for i in range(0,10):\n",
    "  top_ten_tags.append(tweet_data[0]['trends'][i]['name'])\n",
    "print(top_ten_tags)"
   ]
  },
  {
   "cell_type": "code",
   "execution_count": null,
   "metadata": {},
   "outputs": [],
   "source": []
  }
 ],
 "metadata": {
  "kernelspec": {
   "display_name": "Python 3",
   "language": "python",
   "name": "python3"
  },
  "language_info": {
   "codemirror_mode": {
    "name": "ipython",
    "version": 3
   },
   "file_extension": ".py",
   "mimetype": "text/x-python",
   "name": "python",
   "nbconvert_exporter": "python",
   "pygments_lexer": "ipython3",
   "version": "3.7.6"
  }
 },
 "nbformat": 4,
 "nbformat_minor": 4
}
