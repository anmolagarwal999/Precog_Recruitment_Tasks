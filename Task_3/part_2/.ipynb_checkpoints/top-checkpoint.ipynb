{
 "cells": [
  {
   "cell_type": "code",
   "execution_count": 15,
   "metadata": {},
   "outputs": [],
   "source": [
    "import xmltodict\n",
    "from pymongo import MongoClient\n",
    "import sys\n",
    "import os\n",
    "\n",
    "def part():\n",
    "    print(\"------------------------------------------------\")\n",
    "import json  "
   ]
  },
  {
   "cell_type": "code",
   "execution_count": null,
   "metadata": {},
   "outputs": [],
   "source": [
    "path_to_file=\"Posts.xml\""
   ]
  },
  {
   "cell_type": "markdown",
   "metadata": {},
   "source": [
    "with open(path_to_file) as xml_file:\n",
    "        a = xmltodict.parse(xml_file.read())\n",
    "        #print(a.pretty())"
   ]
  },
  {
   "cell_type": "code",
   "execution_count": null,
   "metadata": {},
   "outputs": [],
   "source": [
    "#print (json.dumps(a, indent=2))"
   ]
  },
  {
   "cell_type": "code",
   "execution_count": null,
   "metadata": {},
   "outputs": [],
   "source": [
    "#a[\"posts\"]"
   ]
  },
  {
   "cell_type": "code",
   "execution_count": null,
   "metadata": {},
   "outputs": [],
   "source": [
    "#len(a[\"posts\"])"
   ]
  },
  {
   "cell_type": "code",
   "execution_count": null,
   "metadata": {},
   "outputs": [],
   "source": [
    "#a[\"posts\"][\"row\"]"
   ]
  },
  {
   "cell_type": "code",
   "execution_count": null,
   "metadata": {},
   "outputs": [],
   "source": [
    "#len(a[\"posts\"][\"row\"])"
   ]
  },
  {
   "cell_type": "code",
   "execution_count": null,
   "metadata": {},
   "outputs": [],
   "source": [
    "#for i in a[\"posts\"][\"row\"]:\n",
    "    #print(i)\n",
    "    #print(type(i))\n",
    "    #for key, value in i.items() :\n",
    "        #print (key, value)\n",
    "    #pass"
   ]
  },
  {
   "cell_type": "code",
   "execution_count": null,
   "metadata": {},
   "outputs": [],
   "source": [
    "#print(type(a[\"posts\"][\"row\"][1]))"
   ]
  },
  {
   "cell_type": "code",
   "execution_count": null,
   "metadata": {},
   "outputs": [],
   "source": [
    "#print(a[\"posts\"][\"row\"][1])"
   ]
  },
  {
   "cell_type": "code",
   "execution_count": null,
   "metadata": {},
   "outputs": [],
   "source": [
    "#or key, value in a[\"posts\"][\"row\"][1].items():\n",
    "    #rint(key, value)"
   ]
  },
  {
   "cell_type": "code",
   "execution_count": null,
   "metadata": {},
   "outputs": [],
   "source": [
    "#a[\"posts\"][\"row\"][1]['@Id']"
   ]
  },
  {
   "cell_type": "code",
   "execution_count": null,
   "metadata": {},
   "outputs": [],
   "source": [
    "#a[\"posts\"][\"row\"][2]['@Tags']"
   ]
  },
  {
   "cell_type": "code",
   "execution_count": null,
   "metadata": {},
   "outputs": [],
   "source": [
    "#type(a[\"posts\"][\"row\"][2]['@Tags'])"
   ]
  },
  {
   "cell_type": "code",
   "execution_count": 16,
   "metadata": {},
   "outputs": [],
   "source": [
    "tag_key=\"@Tags\""
   ]
  },
  {
   "cell_type": "code",
   "execution_count": 27,
   "metadata": {},
   "outputs": [],
   "source": [
    "freq_dict={}"
   ]
  },
  {
   "cell_type": "code",
   "execution_count": 23,
   "metadata": {},
   "outputs": [],
   "source": [
    "def update_freq(str2):\n",
    "    now=\"\"\n",
    "    for ch in str2:\n",
    "        if ch=='<':\n",
    "            now=\"\"\n",
    "        elif ch=='>':\n",
    "            #print(f\"now is {now}\")\n",
    "            if now in freq_dict.keys():\n",
    "                freq_dict[now]=freq_dict[now]+1\n",
    "            else:\n",
    "                freq_dict[now]=1\n",
    "        else:\n",
    "            now=now+ch  \n",
    "    \n",
    "    "
   ]
  },
  {
   "cell_type": "code",
   "execution_count": null,
   "metadata": {},
   "outputs": [],
   "source": []
  },
  {
   "cell_type": "code",
   "execution_count": 1,
   "metadata": {},
   "outputs": [],
   "source": [
    "#print(freq_dict)"
   ]
  },
  {
   "cell_type": "markdown",
   "metadata": {},
   "source": [
    "with open(\"file_obj00\") as xml_file:\n",
    "        a = xml_file.read()\n",
    "        print(type(a))"
   ]
  },
  {
   "cell_type": "code",
   "execution_count": 24,
   "metadata": {},
   "outputs": [],
   "source": [
    "def process_file(file_path):\n",
    "    with open(file_path) as xml_file:\n",
    "        b = xml_file.read()\n",
    "        b='''<?xml version=\"1.0\" encoding=\"utf-8\"?><posts>'''+b+\"</posts>\"\n",
    "        a = xmltodict.parse(b)\n",
    "        for i in a[\"posts\"][\"row\"]:\n",
    "            if tag_key in i.keys():\n",
    "                str2=i[tag_key]\n",
    "                update_freq(str2)"
   ]
  },
  {
   "cell_type": "code",
   "execution_count": 28,
   "metadata": {},
   "outputs": [
    {
     "name": "stdout",
     "output_type": "stream",
     "text": [
      "file_obj18\n",
      "file_obj17\n",
      "file_obj28\n",
      "file_obj07\n",
      "file_obj32\n",
      "file_obj35\n",
      "file_obj10\n",
      "file_obj24\n",
      "file_obj14\n",
      "file_obj12\n",
      "file_obj30\n",
      "file_obj36\n",
      "file_obj21\n",
      "file_obj04\n",
      "file_obj02\n",
      "file_obj27\n",
      "file_obj13\n",
      "file_obj26\n",
      "file_obj16\n",
      "file_obj20\n",
      "file_obj06\n",
      "file_obj34\n",
      "file_obj05\n",
      "file_obj29\n",
      "file_obj38\n",
      "file_obj37\n",
      "file_obj42\n",
      "file_obj22\n",
      "file_obj23\n",
      "file_obj11\n",
      "file_obj03\n",
      "file_obj15\n",
      "file_obj33\n",
      "file_obj19\n",
      "file_obj39\n",
      "file_obj01\n",
      "file_obj00\n",
      "file_obj09\n",
      "file_obj25\n",
      "file_obj08\n",
      "file_obj41\n",
      "file_obj40\n",
      "file_obj31\n"
     ]
    }
   ],
   "source": [
    "with os.scandir(\"./\") as it:\n",
    "    for entry in it:\n",
    "        if len(entry.name)>5 and entry.name[0:5]==\"file_\" and entry.is_file():\n",
    "            #print(entry.name, entry.path)\n",
    "            print(entry.name)\n",
    "            process_file(entry.path)\n",
    "            "
   ]
  },
  {
   "cell_type": "code",
   "execution_count": 2,
   "metadata": {},
   "outputs": [],
   "source": [
    "#print(freq_dict)"
   ]
  },
  {
   "cell_type": "code",
   "execution_count": 32,
   "metadata": {},
   "outputs": [],
   "source": [
    "# sort dictionary numerically by values ascending order\n",
    "list_keys=sorted(freq_dict, key=lambda i: int(freq_dict[i]))"
   ]
  },
  {
   "cell_type": "code",
   "execution_count": 34,
   "metadata": {},
   "outputs": [],
   "source": [
    "list_keys.reverse()"
   ]
  },
  {
   "cell_type": "code",
   "execution_count": 36,
   "metadata": {},
   "outputs": [],
   "source": [
    "import pandas as pd"
   ]
  },
  {
   "cell_type": "code",
   "execution_count": 37,
   "metadata": {},
   "outputs": [],
   "source": [
    "x_c=[]\n",
    "y_c=[]\n",
    "for i in range(0,10):\n",
    "    x_c.append(list_keys[i])\n",
    "    y_c.append(freq_dict[list_keys[i]])    "
   ]
  },
  {
   "cell_type": "code",
   "execution_count": 39,
   "metadata": {},
   "outputs": [
    {
     "data": {
      "text/plain": [
       "[1358860, 125609, 119220, 111953, 62820, 60590, 42883, 38246, 33927, 29821]"
      ]
     },
     "execution_count": 39,
     "metadata": {},
     "output_type": "execute_result"
    }
   ],
   "source": [
    "x_c\n",
    "y_c"
   ]
  },
  {
   "cell_type": "code",
   "execution_count": 40,
   "metadata": {},
   "outputs": [],
   "source": [
    "d = {'tag_name': x_c, 'tag_freq': y_c}\n",
    "df = pd.DataFrame(data=d)"
   ]
  },
  {
   "cell_type": "code",
   "execution_count": 41,
   "metadata": {},
   "outputs": [
    {
     "data": {
      "text/html": [
       "<div>\n",
       "<style scoped>\n",
       "    .dataframe tbody tr th:only-of-type {\n",
       "        vertical-align: middle;\n",
       "    }\n",
       "\n",
       "    .dataframe tbody tr th {\n",
       "        vertical-align: top;\n",
       "    }\n",
       "\n",
       "    .dataframe thead th {\n",
       "        text-align: right;\n",
       "    }\n",
       "</style>\n",
       "<table border=\"1\" class=\"dataframe\">\n",
       "  <thead>\n",
       "    <tr style=\"text-align: right;\">\n",
       "      <th></th>\n",
       "      <th>tag_name</th>\n",
       "      <th>tag_freq</th>\n",
       "    </tr>\n",
       "  </thead>\n",
       "  <tbody>\n",
       "    <tr>\n",
       "      <th>0</th>\n",
       "      <td>python</td>\n",
       "      <td>1358860</td>\n",
       "    </tr>\n",
       "    <tr>\n",
       "      <th>1</th>\n",
       "      <td>python-3.x</td>\n",
       "      <td>125609</td>\n",
       "    </tr>\n",
       "    <tr>\n",
       "      <th>2</th>\n",
       "      <td>pandas</td>\n",
       "      <td>119220</td>\n",
       "    </tr>\n",
       "    <tr>\n",
       "      <th>3</th>\n",
       "      <td>django</td>\n",
       "      <td>111953</td>\n",
       "    </tr>\n",
       "    <tr>\n",
       "      <th>4</th>\n",
       "      <td>numpy</td>\n",
       "      <td>62820</td>\n",
       "    </tr>\n",
       "    <tr>\n",
       "      <th>5</th>\n",
       "      <td>python-2.7</td>\n",
       "      <td>60590</td>\n",
       "    </tr>\n",
       "    <tr>\n",
       "      <th>6</th>\n",
       "      <td>list</td>\n",
       "      <td>42883</td>\n",
       "    </tr>\n",
       "    <tr>\n",
       "      <th>7</th>\n",
       "      <td>matplotlib</td>\n",
       "      <td>38246</td>\n",
       "    </tr>\n",
       "    <tr>\n",
       "      <th>8</th>\n",
       "      <td>dataframe</td>\n",
       "      <td>33927</td>\n",
       "    </tr>\n",
       "    <tr>\n",
       "      <th>9</th>\n",
       "      <td>dictionary</td>\n",
       "      <td>29821</td>\n",
       "    </tr>\n",
       "  </tbody>\n",
       "</table>\n",
       "</div>"
      ],
      "text/plain": [
       "     tag_name  tag_freq\n",
       "0      python   1358860\n",
       "1  python-3.x    125609\n",
       "2      pandas    119220\n",
       "3      django    111953\n",
       "4       numpy     62820\n",
       "5  python-2.7     60590\n",
       "6        list     42883\n",
       "7  matplotlib     38246\n",
       "8   dataframe     33927\n",
       "9  dictionary     29821"
      ]
     },
     "execution_count": 41,
     "metadata": {},
     "output_type": "execute_result"
    }
   ],
   "source": [
    "df"
   ]
  },
  {
   "cell_type": "code",
   "execution_count": 44,
   "metadata": {},
   "outputs": [
    {
     "data": {
      "image/png": "[encoded data removed]",
      "text/plain": [
       "<Figure size 842.4x595.44 with 1 Axes>"
      ]
     },
     "metadata": {},
     "output_type": "display_data"
    }
   ],
   "source": [
    "import seaborn as sns\n",
    "sns.set(rc={'figure.figsize':(11.7,8.27)})\n",
    "\n",
    "ax = sns.barplot(x=\"tag_name\", y=\"tag_freq\", data=df)"
   ]
  },
  {
   "cell_type": "code",
   "execution_count": null,
   "metadata": {},
   "outputs": [],
   "source": []
  }
 ],
 "metadata": {
  "kernelspec": {
   "display_name": "Python 3",
   "language": "python",
   "name": "python3"
  },
  "language_info": {
   "codemirror_mode": {
    "name": "ipython",
    "version": 3
   },
   "file_extension": ".py",
   "mimetype": "text/x-python",
   "name": "python",
   "nbconvert_exporter": "python",
   "pygments_lexer": "ipython3",
   "version": "3.7.6"
  }
 },
 "nbformat": 4,
 "nbformat_minor": 4
}
