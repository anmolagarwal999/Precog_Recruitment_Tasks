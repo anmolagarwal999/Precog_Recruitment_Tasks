{
 "cells": [
  {
   "cell_type": "code",
   "execution_count": 31,
   "metadata": {},
   "outputs": [],
   "source": [
    "import camelot\n",
    "import pandas as pd"
   ]
  },
  {
   "cell_type": "markdown",
   "metadata": {},
   "source": [
    "I have used the **camelot** open source library. I had to manipulate parameters to ensure perfect extraction of tables in the intended layouts. Most tables can be extracted properly with tuning.using parameters like 'line_scale','shift_text','strip_text' etc"
   ]
  },
  {
   "cell_type": "markdown",
   "metadata": {},
   "source": [
    "## Code for insertion into database"
   ]
  },
  {
   "cell_type": "code",
   "execution_count": 32,
   "metadata": {},
   "outputs": [
    {
     "name": "stdout",
     "output_type": "stream",
     "text": [
      "Connected successfully!!!\n"
     ]
    }
   ],
   "source": [
    "from pymongo import MongoClient\n",
    "\n",
    "\n",
    "def part():\n",
    "    print(\"------------------------------------------------\")\n",
    "\n",
    "\n",
    "#######################################\n",
    "curr_counter = 0\n",
    "curr_collection_name = \"collection_name_\"\n",
    "#########################################\n",
    "\n",
    "try:\n",
    "    conn = MongoClient()\n",
    "    print(\"Connected successfully!!!\")\n",
    "except:\n",
    "    print(\"Could not connect to MongoDB\")\n",
    "\n",
    "# database\n",
    "db = conn.database"
   ]
  },
  {
   "cell_type": "code",
   "execution_count": 33,
   "metadata": {},
   "outputs": [],
   "source": [
    "def insert_data(data_obj):\n",
    "    global curr_collection_name\n",
    "    global curr_counter\n",
    "    col_name = curr_collection_name + str(curr_counter)\n",
    "    collection_obj = db[col_name]\n",
    "    curr_counter += 1\n",
    "    collection_obj.insert_many(data_obj)\n",
    "\n",
    "    part()\n",
    "    # Printing the data inserted\n",
    "    cursor = collection_obj.find()\n",
    "    for record in cursor:\n",
    "        print(record)\n"
   ]
  },
  {
   "cell_type": "code",
   "execution_count": 34,
   "metadata": {},
   "outputs": [],
   "source": [
    "def insert_into_db(tables):\n",
    "    for j in range(0,tables.n):\n",
    "        data_dict = tables[j].df.to_dict(\"records\")\n",
    "        # print(type(data_dict))\n",
    "        # print(data_dict)\n",
    "        for i in range(0, len(data_dict)):\n",
    "            keys_values = data_dict[i].items()\n",
    "            data_dict[i] = {str(key): value for key, value in keys_values}\n",
    "\n",
    "        insert_data(data_dict)"
   ]
  },
  {
   "cell_type": "code",
   "execution_count": null,
   "metadata": {},
   "outputs": [],
   "source": []
  },
  {
   "cell_type": "markdown",
   "metadata": {},
   "source": [
    "# iifl.pdf"
   ]
  },
  {
   "cell_type": "code",
   "execution_count": 35,
   "metadata": {},
   "outputs": [],
   "source": [
    "tables=camelot.read_pdf(\"./Rec_Task/iifl.pdf\",line_scale=20,strip_text='\\n')"
   ]
  },
  {
   "cell_type": "code",
   "execution_count": 36,
   "metadata": {},
   "outputs": [
    {
     "name": "stdout",
     "output_type": "stream",
     "text": [
      "Total tables extracted: 2\n"
     ]
    }
   ],
   "source": [
    "# number of tables extracted\n",
    "print(\"Total tables extracted:\", tables.n)"
   ]
  },
  {
   "cell_type": "code",
   "execution_count": 37,
   "metadata": {},
   "outputs": [
    {
     "name": "stderr",
     "output_type": "stream",
     "text": [
      "/home/anmolagarwal/anaconda3/lib/python3.7/site-packages/ipykernel_launcher.py:1: UserWarning: Matplotlib is currently using module://ipykernel.pylab.backend_inline, which is a non-GUI backend, so cannot show the figure.\n",
      "  \"\"\"Entry point for launching an IPython kernel.\n"
     ]
    },
    {
     "data": {
      "image/png": "[encoded data removed]",
      "text/plain": [
       "<Figure size 432x288 with 1 Axes>"
      ]
     },
     "metadata": {
      "needs_background": "light"
     },
     "output_type": "display_data"
    }
   ],
   "source": [
    "camelot.plot(tables[0], kind='joint').show()"
   ]
  },
  {
   "cell_type": "code",
   "execution_count": 38,
   "metadata": {
    "scrolled": true
   },
   "outputs": [
    {
     "data": {
      "text/html": [
       "<div>\n",
       "<style scoped>\n",
       "    .dataframe tbody tr th:only-of-type {\n",
       "        vertical-align: middle;\n",
       "    }\n",
       "\n",
       "    .dataframe tbody tr th {\n",
       "        vertical-align: top;\n",
       "    }\n",
       "\n",
       "    .dataframe thead th {\n",
       "        text-align: right;\n",
       "    }\n",
       "</style>\n",
       "<table border=\"1\" class=\"dataframe\">\n",
       "  <thead>\n",
       "    <tr style=\"text-align: right;\">\n",
       "      <th></th>\n",
       "      <th>0</th>\n",
       "      <th>1</th>\n",
       "    </tr>\n",
       "  </thead>\n",
       "  <tbody>\n",
       "    <tr>\n",
       "      <th>0</th>\n",
       "      <td>To,The Manager,Listing Department,BSE leitecl,...</td>\n",
       "      <td>To,The Manager,Llstlng Department,The Natlonal...</td>\n",
       "    </tr>\n",
       "    <tr>\n",
       "      <th>1</th>\n",
       "      <td></td>\n",
       "      <td></td>\n",
       "    </tr>\n",
       "    <tr>\n",
       "      <th>2</th>\n",
       "      <td></td>\n",
       "      <td></td>\n",
       "    </tr>\n",
       "  </tbody>\n",
       "</table>\n",
       "</div>"
      ],
      "text/plain": [
       "                                                   0  \\\n",
       "0  To,The Manager,Listing Department,BSE leitecl,...   \n",
       "1                                                      \n",
       "2                                                      \n",
       "\n",
       "                                                   1  \n",
       "0  To,The Manager,Llstlng Department,The Natlonal...  \n",
       "1                                                     \n",
       "2                                                     "
      ]
     },
     "execution_count": 38,
     "metadata": {},
     "output_type": "execute_result"
    }
   ],
   "source": [
    "tables[0].df"
   ]
  },
  {
   "cell_type": "code",
   "execution_count": 39,
   "metadata": {
    "scrolled": true
   },
   "outputs": [
    {
     "data": {
      "text/html": [
       "<div>\n",
       "<style scoped>\n",
       "    .dataframe tbody tr th:only-of-type {\n",
       "        vertical-align: middle;\n",
       "    }\n",
       "\n",
       "    .dataframe tbody tr th {\n",
       "        vertical-align: top;\n",
       "    }\n",
       "\n",
       "    .dataframe thead th {\n",
       "        text-align: right;\n",
       "    }\n",
       "</style>\n",
       "<table border=\"1\" class=\"dataframe\">\n",
       "  <thead>\n",
       "    <tr style=\"text-align: right;\">\n",
       "      <th></th>\n",
       "      <th>0</th>\n",
       "      <th>1</th>\n",
       "    </tr>\n",
       "  </thead>\n",
       "  <tbody>\n",
       "    <tr>\n",
       "      <th>0</th>\n",
       "      <td>Date</td>\n",
       "      <td>ParticularsType of Interactlon</td>\n",
       "    </tr>\n",
       "    <tr>\n",
       "      <th>1</th>\n",
       "      <td>April 06, 2018</td>\n",
       "      <td>SBICAP Securities LtdOne on One</td>\n",
       "    </tr>\n",
       "    <tr>\n",
       "      <th>2</th>\n",
       "      <td></td>\n",
       "      <td></td>\n",
       "    </tr>\n",
       "    <tr>\n",
       "      <th>3</th>\n",
       "      <td></td>\n",
       "      <td></td>\n",
       "    </tr>\n",
       "  </tbody>\n",
       "</table>\n",
       "</div>"
      ],
      "text/plain": [
       "                0                                1\n",
       "0            Date   ParticularsType of Interactlon\n",
       "1  April 06, 2018  SBICAP Securities LtdOne on One\n",
       "2                                                 \n",
       "3                                                 "
      ]
     },
     "execution_count": 39,
     "metadata": {},
     "output_type": "execute_result"
    }
   ],
   "source": [
    "tables[1].df.rename(columns=tables[1].df.iloc[0])\n",
    "tables[1].df.drop(tables[1].df.index[0])\n",
    "tables[1].df"
   ]
  },
  {
   "cell_type": "code",
   "execution_count": 40,
   "metadata": {},
   "outputs": [
    {
     "name": "stdout",
     "output_type": "stream",
     "text": [
      "------------------------------------------------\n",
      "{'_id': ObjectId('5fe2260a77d952fc4defb19c'), '0': 'Day & Date', '1': 'Name of Organisation', '2': 'Type of Meeting'}\n",
      "{'_id': ObjectId('5fe2260a77d952fc4defb19d'), '0': 'Friday.April 06, 2018', '1': 'HDFC Securities Limited', '2': 'One-on-one Call'}\n",
      "{'_id': ObjectId('5fe226342c5238d1d1dcc47b'), '0': 'Day & Date', '1': 'Name of Organisation', '2': 'Type of Meeting'}\n",
      "{'_id': ObjectId('5fe226342c5238d1d1dcc47c'), '0': 'Friday.April 06, 2018', '1': 'HDFC Securities Limited', '2': 'One-on-one Call'}\n",
      "{'_id': ObjectId('5fe2268a7554c8bf3f57f081'), '0': 'Day & Date', '1': 'Name of Organisation', '2': 'Type of Meeting'}\n",
      "{'_id': ObjectId('5fe2268a7554c8bf3f57f082'), '0': 'Friday.April 06, 2018', '1': 'HDFC Securities Limited', '2': 'One-on-one Call'}\n",
      "{'_id': ObjectId('5fe227609731891218ac26b2'), '0': 'To,The Manager,Listing Department,BSE leitecl,Phiroze Jeeleebhoy Tower,Dalal Street,Mumbai 400 001.BSE Scrip Code: 532636', '1': 'To,The Manager,Llstlng Department,The Natlonal Stock Exchange of India Ltd.,Exchange Plaza, 5 Floor, Plot 0/1, 6 Block,Sandra - Kurla Complex, Bandra (E),Mumbal 400 051.Tel No.: 2659 8235 Fax No; 26598237] 26598238IIFLNSE Symbol:'}\n",
      "{'_id': ObjectId('5fe227609731891218ac26b3'), '0': '', '1': ''}\n",
      "{'_id': ObjectId('5fe227609731891218ac26b4'), '0': '', '1': ''}\n",
      "------------------------------------------------\n",
      "{'_id': ObjectId('5fe227609731891218ac26b5'), '0': 'Date', '1': 'ParticularsType of Interactlon'}\n",
      "{'_id': ObjectId('5fe227609731891218ac26b6'), '0': 'April 06, 2018', '1': 'SBICAP Securities LtdOne on One'}\n",
      "{'_id': ObjectId('5fe227609731891218ac26b7'), '0': '', '1': ''}\n",
      "{'_id': ObjectId('5fe227609731891218ac26b8'), '0': '', '1': ''}\n"
     ]
    }
   ],
   "source": [
    "insert_into_db(tables)"
   ]
  },
  {
   "cell_type": "markdown",
   "metadata": {},
   "source": [
    "# ---------------------------------------------------------\n"
   ]
  },
  {
   "cell_type": "markdown",
   "metadata": {},
   "source": [
    "# PSP.pdf"
   ]
  },
  {
   "cell_type": "code",
   "execution_count": 41,
   "metadata": {},
   "outputs": [],
   "source": [
    "tables=camelot.read_pdf(\"./Rec_Task/psp.pdf\",line_scale=20,shift_text=[''],strip_text='\\n')"
   ]
  },
  {
   "cell_type": "code",
   "execution_count": 42,
   "metadata": {},
   "outputs": [
    {
     "name": "stdout",
     "output_type": "stream",
     "text": [
      "Total tables extracted: 1\n"
     ]
    }
   ],
   "source": [
    "# number of tables extracted\n",
    "print(\"Total tables extracted:\", tables.n)"
   ]
  },
  {
   "cell_type": "code",
   "execution_count": 43,
   "metadata": {},
   "outputs": [
    {
     "name": "stderr",
     "output_type": "stream",
     "text": [
      "/home/anmolagarwal/anaconda3/lib/python3.7/site-packages/ipykernel_launcher.py:1: UserWarning: Matplotlib is currently using module://ipykernel.pylab.backend_inline, which is a non-GUI backend, so cannot show the figure.\n",
      "  \"\"\"Entry point for launching an IPython kernel.\n"
     ]
    },
    {
     "data": {
      "image/png": "[encoded data removed]",
      "text/plain": [
       "<Figure size 432x288 with 1 Axes>"
      ]
     },
     "metadata": {
      "needs_background": "light"
     },
     "output_type": "display_data"
    }
   ],
   "source": [
    "camelot.plot(tables[0], kind='joint').show()"
   ]
  },
  {
   "cell_type": "code",
   "execution_count": 44,
   "metadata": {
    "scrolled": false
   },
   "outputs": [
    {
     "data": {
      "text/html": [
       "<div>\n",
       "<style scoped>\n",
       "    .dataframe tbody tr th:only-of-type {\n",
       "        vertical-align: middle;\n",
       "    }\n",
       "\n",
       "    .dataframe tbody tr th {\n",
       "        vertical-align: top;\n",
       "    }\n",
       "\n",
       "    .dataframe thead th {\n",
       "        text-align: right;\n",
       "    }\n",
       "</style>\n",
       "<table border=\"1\" class=\"dataframe\">\n",
       "  <thead>\n",
       "    <tr style=\"text-align: right;\">\n",
       "      <th></th>\n",
       "      <th>0</th>\n",
       "      <th>1</th>\n",
       "      <th>2</th>\n",
       "    </tr>\n",
       "  </thead>\n",
       "  <tbody>\n",
       "    <tr>\n",
       "      <th>0</th>\n",
       "      <td>Day &amp; Date</td>\n",
       "      <td>Name of Organisation</td>\n",
       "      <td>Type of Meeting</td>\n",
       "    </tr>\n",
       "    <tr>\n",
       "      <th>1</th>\n",
       "      <td>Friday.April 06, 2018</td>\n",
       "      <td>HDFC Securities Limited</td>\n",
       "      <td>One-on-one Call</td>\n",
       "    </tr>\n",
       "  </tbody>\n",
       "</table>\n",
       "</div>"
      ],
      "text/plain": [
       "                       0                        1                2\n",
       "0             Day & Date     Name of Organisation  Type of Meeting\n",
       "1  Friday.April 06, 2018  HDFC Securities Limited  One-on-one Call"
      ]
     },
     "execution_count": 44,
     "metadata": {},
     "output_type": "execute_result"
    }
   ],
   "source": [
    "tables[0].df"
   ]
  },
  {
   "cell_type": "code",
   "execution_count": 45,
   "metadata": {},
   "outputs": [
    {
     "name": "stdout",
     "output_type": "stream",
     "text": [
      "------------------------------------------------\n",
      "{'_id': ObjectId('5fe227639731891218ac26b9'), '0': 'Day & Date', '1': 'Name of Organisation', '2': 'Type of Meeting'}\n",
      "{'_id': ObjectId('5fe227639731891218ac26ba'), '0': 'Friday.April 06, 2018', '1': 'HDFC Securities Limited', '2': 'One-on-one Call'}\n"
     ]
    }
   ],
   "source": [
    "insert_into_db(tables)"
   ]
  },
  {
   "cell_type": "markdown",
   "metadata": {},
   "source": [
    "# ---------------------------------------------------------\n"
   ]
  },
  {
   "cell_type": "markdown",
   "metadata": {},
   "source": [
    "# jm.pdf"
   ]
  },
  {
   "cell_type": "code",
   "execution_count": 46,
   "metadata": {},
   "outputs": [
    {
     "name": "stderr",
     "output_type": "stream",
     "text": [
      "PdfReadWarning: Invalid stream (index 16) within object 41 0: Stream has ended unexpectedly [pdf.py:1573]\n"
     ]
    }
   ],
   "source": [
    "tables=camelot.read_pdf(\"./Rec_Task/jm.pdf\",line_scale=20,shift_text=[''],strip_text='\\n',split_text=True)"
   ]
  },
  {
   "cell_type": "code",
   "execution_count": 47,
   "metadata": {},
   "outputs": [
    {
     "name": "stdout",
     "output_type": "stream",
     "text": [
      "Total tables extracted: 1\n"
     ]
    }
   ],
   "source": [
    "# number of tables extracted\n",
    "print(\"Total tables extracted:\", tables.n)"
   ]
  },
  {
   "cell_type": "code",
   "execution_count": 48,
   "metadata": {},
   "outputs": [
    {
     "name": "stderr",
     "output_type": "stream",
     "text": [
      "/home/anmolagarwal/anaconda3/lib/python3.7/site-packages/ipykernel_launcher.py:1: UserWarning: Matplotlib is currently using module://ipykernel.pylab.backend_inline, which is a non-GUI backend, so cannot show the figure.\n",
      "  \"\"\"Entry point for launching an IPython kernel.\n"
     ]
    },
    {
     "data": {
      "image/png": "[encoded data removed]",
      "text/plain": [
       "<Figure size 432x288 with 1 Axes>"
      ]
     },
     "metadata": {
      "needs_background": "light"
     },
     "output_type": "display_data"
    }
   ],
   "source": [
    "camelot.plot(tables[0], kind='joint').show()"
   ]
  },
  {
   "cell_type": "code",
   "execution_count": 49,
   "metadata": {
    "scrolled": false
   },
   "outputs": [
    {
     "data": {
      "text/html": [
       "<div>\n",
       "<style scoped>\n",
       "    .dataframe tbody tr th:only-of-type {\n",
       "        vertical-align: middle;\n",
       "    }\n",
       "\n",
       "    .dataframe tbody tr th {\n",
       "        vertical-align: top;\n",
       "    }\n",
       "\n",
       "    .dataframe thead th {\n",
       "        text-align: right;\n",
       "    }\n",
       "</style>\n",
       "<table border=\"1\" class=\"dataframe\">\n",
       "  <thead>\n",
       "    <tr style=\"text-align: right;\">\n",
       "      <th></th>\n",
       "      <th>0</th>\n",
       "      <th>1</th>\n",
       "      <th>2</th>\n",
       "      <th>3</th>\n",
       "    </tr>\n",
       "  </thead>\n",
       "  <tbody>\n",
       "    <tr>\n",
       "      <th>0</th>\n",
       "      <td>Date</td>\n",
       "      <td>Name of the analyst/investor</td>\n",
       "      <td>Type</td>\n",
       "      <td>Location</td>\n",
       "    </tr>\n",
       "    <tr>\n",
       "      <th>1</th>\n",
       "      <td>April 4, 2018</td>\n",
       "      <td>Motilal Oswal Asset Management Company Limited</td>\n",
       "      <td>One-on-One meeting</td>\n",
       "      <td>Mumbai</td>\n",
       "    </tr>\n",
       "    <tr>\n",
       "      <th>2</th>\n",
       "      <td></td>\n",
       "      <td>Credit Suisse I</td>\n",
       "      <td>Voice call</td>\n",
       "      <td>-</td>\n",
       "    </tr>\n",
       "    <tr>\n",
       "      <th>3</th>\n",
       "      <td>April 5, 2018</td>\n",
       "      <td>Maybank Eng Securities India Private Limited</td>\n",
       "      <td>One-on-One meeting</td>\n",
       "      <td>Mumbai</td>\n",
       "    </tr>\n",
       "  </tbody>\n",
       "</table>\n",
       "</div>"
      ],
      "text/plain": [
       "               0                                               1  \\\n",
       "0           Date                    Name of the analyst/investor   \n",
       "1  April 4, 2018  Motilal Oswal Asset Management Company Limited   \n",
       "2                                                Credit Suisse I   \n",
       "3  April 5, 2018    Maybank Eng Securities India Private Limited   \n",
       "\n",
       "                    2         3  \n",
       "0                Type  Location  \n",
       "1  One-on-One meeting    Mumbai  \n",
       "2          Voice call         -  \n",
       "3  One-on-One meeting    Mumbai  "
      ]
     },
     "execution_count": 49,
     "metadata": {},
     "output_type": "execute_result"
    }
   ],
   "source": [
    "tables[0].df"
   ]
  },
  {
   "cell_type": "code",
   "execution_count": 50,
   "metadata": {},
   "outputs": [
    {
     "name": "stdout",
     "output_type": "stream",
     "text": [
      "------------------------------------------------\n",
      "{'_id': ObjectId('5fe227659731891218ac26bb'), '0': 'Date', '1': 'Name of the analyst/investor', '2': 'Type', '3': 'Location'}\n",
      "{'_id': ObjectId('5fe227659731891218ac26bc'), '0': 'April 4, 2018', '1': 'Motilal Oswal Asset Management Company Limited', '2': 'One-on-One meeting', '3': 'Mumbai'}\n",
      "{'_id': ObjectId('5fe227659731891218ac26bd'), '0': '', '1': 'Credit Suisse I', '2': 'Voice call', '3': '-'}\n",
      "{'_id': ObjectId('5fe227659731891218ac26be'), '0': 'April 5, 2018', '1': 'Maybank Eng Securities India Private Limited', '2': 'One-on-One meeting', '3': 'Mumbai'}\n"
     ]
    }
   ],
   "source": [
    "insert_into_db(tables)"
   ]
  },
  {
   "cell_type": "markdown",
   "metadata": {},
   "source": [
    "# ---------------------------------------------------------\n"
   ]
  }
 ],
 "metadata": {
  "kernelspec": {
   "display_name": "Python 3",
   "language": "python",
   "name": "python3"
  },
  "language_info": {
   "codemirror_mode": {
    "name": "ipython",
    "version": 3
   },
   "file_extension": ".py",
   "mimetype": "text/x-python",
   "name": "python",
   "nbconvert_exporter": "python",
   "pygments_lexer": "ipython3",
   "version": "3.7.6"
  }
 },
 "nbformat": 4,
 "nbformat_minor": 4
}
